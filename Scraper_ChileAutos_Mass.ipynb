{
 "cells": [
  {
   "cell_type": "markdown",
   "metadata": {},
   "source": [
    "## Importando Librerias"
   ]
  },
  {
   "cell_type": "code",
   "execution_count": 1,
   "metadata": {},
   "outputs": [],
   "source": [
    "import os\n",
    "import requests\n",
    "from bs4 import BeautifulSoup\n",
    "import datetime\n",
    "import re\n",
    "import pickle as pk\n",
    "import pandas as pd\n",
    "import math"
   ]
  },
  {
   "cell_type": "code",
   "execution_count": 2,
   "metadata": {},
   "outputs": [],
   "source": [
    "df_marcas = pd.read_excel('Requerimientos/Homologacion_Marcas.xlsx')\n",
    "marcas = df_marcas.values.tolist()"
   ]
  },
  {
   "cell_type": "code",
   "execution_count": 3,
   "metadata": {},
   "outputs": [],
   "source": [
    "#Tiempo-Fecha\n",
    "tiempo = datetime.datetime.now()\n",
    "fecha_carpeta = tiempo.strftime('Chileautos_%d_%m_%Y')\n",
    "fecha_documento = tiempo.strftime(\"%d-%m-%Y_%H-%M\")\n",
    "fecha_dato = tiempo.strftime(\"%Y-%m-%d %H:%M:%S\")\n",
    "\n",
    "#Directorios\n",
    "dire = os.getcwd()\n",
    "if os.path.isdir(dire + '\\\\Datos'):\n",
    "    os.chdir(dire + '\\\\Datos')\n",
    "else:\n",
    "    os.mkdir('Datos')\n",
    "    os.chdir(dire + '\\\\Datos')\n",
    "\n",
    "dire = os.getcwd()\n",
    "if os.path.isdir(dire + '\\\\' + fecha_carpeta):\n",
    "    os.chdir(dire + '\\\\' + fecha_carpeta)\n",
    "else:\n",
    "    os.mkdir(fecha_carpeta)\n",
    "    os.chdir(dire + '\\\\' + fecha_carpeta)"
   ]
  },
  {
   "cell_type": "code",
   "execution_count": 4,
   "metadata": {},
   "outputs": [],
   "source": [
    "#Lista Contenedora de datos\n",
    "data = []\n",
    "\n",
    "#Nombre archivo\n",
    "nombre_archivo = 'Chileautos_scrape_' + str(fecha_documento)"
   ]
  },
  {
   "cell_type": "markdown",
   "metadata": {},
   "source": [
    "## Constantes, Iteradores, URL´s base y Listas"
   ]
  },
  {
   "cell_type": "code",
   "execution_count": 5,
   "metadata": {},
   "outputs": [],
   "source": [
    "#Constantes\n",
    "anio_base = 2000\n",
    "anio_actual = int(datetime.date.today().strftime('%Y'))\n",
    "max_anuncios = 1008\n",
    "kms = [1000, 20000, 30000, 40000, 50000, 60000, 65000, 70000, 80000, 90000, 95000, 100000, 120000, 150000, 200000, 300000, 500000, 1000000]\n",
    "#headers = {'User-Agent': 'Mozilla/5.0 (Windows NT 10.0; Win64; x64; rv:86.0) Gecko/20100101 Firefox/86.0'}\n",
    "headers = {'User-Agent': 'Mozilla/5.0 (Macintosh; Intel Mac OS X 10_11_2) AppleWebKit/601.3.9 (KHTML, like Gecko) Version/9.0.2 Safari/601.3.9'}\n",
    "\n",
    "#URL´s base\n",
    "URLs_base_anio = []\n",
    "for anio in range(anio_base, anio_actual +1):\n",
    "    URL_anio = 'https://www.chileautos.cl/vehiculos/?q=(And.Servicio.chileautos._.TipoVeh%c3%adculo.Autos._.Tipo.Usado._.Kilometraje.range({}..)._.Precio.range(100000..99999999)._.Ano.range({}..{}).)&sort=lastupdated'.format(kms[0],anio,anio)\n",
    "    page = requests.get(URL_anio, headers=headers)\n",
    "    soup = BeautifulSoup(page.content, 'html.parser')\n",
    "    n_anuncios = int(re.sub(\"[^0-9]\", \"\", soup.find('h1').contents[0].split()[0]))\n",
    "    too_big = False\n",
    "    if n_anuncios > max_anuncios:\n",
    "        too_big = True\n",
    "    URLs_base_anio.append([anio, n_anuncios, URL_anio, too_big])\n",
    "\n",
    "URLs_base_anio_ready = []\n",
    "anio_not_ready = []\n",
    "for anio in URLs_base_anio:\n",
    "    if not anio[3]:\n",
    "        URLs_base_anio_ready.append([anio[0], anio[1], anio[2]])\n",
    "    else:\n",
    "        anio_not_ready.append([anio[0], anio[1]])"
   ]
  },
  {
   "cell_type": "code",
   "execution_count": 6,
   "metadata": {},
   "outputs": [],
   "source": [
    "URLs_base_anio_not_ready = []\n",
    "for anio in anio_not_ready:\n",
    "    ready = False\n",
    "    start_ite_kms = 0\n",
    "    end_ite_kms = 1\n",
    "    t_anuncios = 0\n",
    "    while not ready:\n",
    "        URL_anio = 'https://www.chileautos.cl/vehiculos/?q=(And.Servicio.chileautos._.TipoVeh%c3%adculo.Autos._.Tipo.Usado._.Kilometraje.range({}..{})._.Precio.range(100000..99999999)._.Ano.range({}..{}).)&sort=lastupdated'.format(kms[start_ite_kms],kms[end_ite_kms],anio[0],anio[0])\n",
    "        page = requests.get(URL_anio, headers=headers)\n",
    "        soup = BeautifulSoup(page.content, 'html.parser')\n",
    "        n_anuncios = int(re.sub(\"[^0-9]\", \"\", soup.find('h1').contents[0].split()[0]))\n",
    "        if n_anuncios < max_anuncios-240 and t_anuncios+n_anuncios < anio[1]:\n",
    "            end_ite_kms += 1\n",
    "        else:\n",
    "            URLs_base_anio_not_ready.append([anio[0], n_anuncios, URL_anio])\n",
    "            t_anuncios += n_anuncios\n",
    "            if(t_anuncios < anio[1]):   \n",
    "                start_ite_kms = end_ite_kms\n",
    "                end_ite_kms += 1\n",
    "            else:\n",
    "                ready = True\n",
    "        "
   ]
  },
  {
   "cell_type": "code",
   "execution_count": 7,
   "metadata": {},
   "outputs": [],
   "source": [
    "URLs = URLs_base_anio_ready + URLs_base_anio_not_ready"
   ]
  },
  {
   "cell_type": "code",
   "execution_count": 8,
   "metadata": {},
   "outputs": [
    {
     "data": {
      "text/plain": [
       "[2000,\n",
       " 55,\n",
       " 'https://www.chileautos.cl/vehiculos/?q=(And.Servicio.chileautos._.TipoVeh%c3%adculo.Autos._.Tipo.Usado._.Kilometraje.range(1000..)._.Precio.range(100000..99999999)._.Ano.range(2000..2000).)&sort=lastupdated']"
      ]
     },
     "execution_count": 8,
     "metadata": {},
     "output_type": "execute_result"
    }
   ],
   "source": [
    "URLs[0]"
   ]
  },
  {
   "cell_type": "code",
   "execution_count": 9,
   "metadata": {},
   "outputs": [],
   "source": [
    "for URL_ite in URLs:\n",
    "    #Iniciar parametros\n",
    "    contador = int(URL_ite[1]/12)*12\n",
    "\n",
    "    #Loop que itera desde la pagina 84 hasta la pagina 1\n",
    "    while contador >= 0:\n",
    "\n",
    "        #Ajuste de URL para la pagina i\n",
    "        contador_URL = str(contador)\n",
    "        URL = URL_ite[2] + '&offset=' + contador_URL\n",
    "\n",
    "        #Descarga y parsing del contenido de la pagina i\n",
    "        page = requests.get(URL, headers=headers)\n",
    "        soup = BeautifulSoup(page.content, 'html.parser')\n",
    "\n",
    "        #Levantamiento de los avisos disponibles en la pagina i\n",
    "        avisos = soup.find_all('div', class_='listing-item')\n",
    "\n",
    "        #Este loop itera sobre todos los avisos contenidos en la paguina i\n",
    "        for aviso in reversed(avisos):\n",
    "\n",
    "            #Seleccion y Elaboracion de datos\n",
    "            #Enlace y Año\n",
    "            link = '/vehiculos/detalles/x/' + aviso.get('data-webm-networkid')\n",
    "            ano = aviso.find_all('h3')[0].contents[0].contents[0][0:4]\n",
    "\n",
    "            #Tipo de publicante\n",
    "            if(aviso.get('data-webm-vehcategory') == 'Agencia'):\n",
    "                tipo_publicacion = 'DEALER'\n",
    "            elif(aviso.get('data-webm-vehcategory') == 'Particular'):\n",
    "                tipo_publicacion = 'PRIVATE'\n",
    "\n",
    "\n",
    "            #Detalles: Kilometraje, Transmision y Combustible\n",
    "\n",
    "            #palabras a detectar para la clasificicacion de la informacion\n",
    "            detecta_km = 'km'\n",
    "            detecta_transmision = ['Automática', 'Manual']\n",
    "            detecta_combustible = ['Bencina', 'Diesel']\n",
    "\n",
    "            #Levantamiento de detalles para el aviso i\n",
    "            detalles = aviso.find_all('div', class_='key-detail-value')\n",
    "\n",
    "            #Iterador de detalles para el aviso i\n",
    "            n_detalle = 0\n",
    "            #Variables contenedoras de la informacion\n",
    "            data_km = ''\n",
    "            data_transmision = ''\n",
    "            data_combustible = ''\n",
    "\n",
    "            #Este loop itera sobre los detalles del aviso i, detecta el tipo de informacion y la almacena\n",
    "            for detalle in detalles:\n",
    "                #Transforma  el detalle a un string para analizar el contenido\n",
    "                detecta_str = str(detalle.contents)\n",
    "\n",
    "                #Este if detecta si la informacion es sobre el Kilometraje\n",
    "                if detecta_km in detecta_str:\n",
    "                    #Limpia el string\n",
    "                    detecta_str.rstrip('\\r\\n')\n",
    "                    #Remueve simbolos no numericos\n",
    "                    km_i = re.sub(\"[^0-9]\", \"\", detecta_str)\n",
    "                    #Transforma el dato a numero\n",
    "                    km = int(km_i)\n",
    "                    #Guarda la informacion\n",
    "                    data_km = km\n",
    "                    #Actualiza el iterador de detalles\n",
    "                    n_detalle += 1\n",
    "                #Este elif detecta si no hay informacion sobreel Kilometraje y si es que si hay sobre la Transmision y la codifica    \n",
    "                elif(n_detalle == 0):\n",
    "                    #En caso de que no exista informacion sobre Kilometraje insrta un guion\n",
    "                    data_km = '-'\n",
    "                    #Detecion y guardado de la informacion sobre la Transmision\n",
    "                    if detecta_transmision[0] in detecta_str:\n",
    "                        data_transmision = 'AUT'\n",
    "                    elif detecta_transmision[1] in detecta_str:\n",
    "                        data_transmision = 'MEC'    \n",
    "                    #Se actualiza el iterador\n",
    "                    n_detalle += 2\n",
    "                #Este elif detecta si es que hay informacion sobre la Transmision y/o el Combustible y la codifica    \n",
    "                elif(n_detalle > 0):\n",
    "                    #Detecion y guardado de la informacion sobre la Transmision\n",
    "                    if detecta_transmision[0] in detecta_str:\n",
    "                        data_transmision = 'AUT'\n",
    "                    elif detecta_transmision[1] in detecta_str:\n",
    "                        data_transmision = 'MEC'\n",
    "                    #Detecion y guardado de la informacion sobre el Combustible\n",
    "                    elif detecta_combustible[0] in detecta_str:\n",
    "                        data_combustible = 'BENCINA'\n",
    "                    elif detecta_combustible[1] in detecta_str:\n",
    "                        data_combustible = 'DIESEL'\n",
    "                    #Se actualiza el iterador\n",
    "                    n_detalle += 1\n",
    "\n",
    "\n",
    "            #Aqui se Homologara el nombre de marca en chileautos con el nombre de la marca de autotraders\n",
    "            buscar_marca = True\n",
    "            marca_aviso = ''\n",
    "            for marca in marcas:\n",
    "                if str(aviso.get('data-webm-make')) == marca[0]:\n",
    "                    marca_aviso = marca[1]\n",
    "                    buscar_marca = False\n",
    "            if(buscar_marca):\n",
    "                marca_aviso = str(aviso.get('data-webm-make')).upper()\n",
    "                buscar_marca = False\n",
    "\n",
    "            #Se elaboran, formatean y pasan a variables los datos restantes\n",
    "            id_chileautos = aviso.get('data-webm-networkid')\n",
    "            modelo = str(aviso.get('data-webm-model')).upper()\n",
    "            precio = int(aviso.get('data-webm-price'))\n",
    "            region = str(aviso.get('data-webm-state')).upper()\n",
    "            titulo = str(aviso.find_all('h3')[0].contents[0].contents[0][:]).upper()\n",
    "\n",
    "            #Se genera la lista con la informacion del anuncio i\n",
    "            dato = [id_chileautos, tipo_publicacion, ano, marca_aviso, modelo, titulo, data_km, precio, data_transmision, link, fecha_dato, region, data_combustible]\n",
    "\n",
    "            #Se Añade la lista con la informacion del anuncio i la lista con los datos de todos los anuncios\n",
    "            data.append(dato)    \n",
    "\n",
    "        #Actualizacion de los iteradores\n",
    "        contador += -12"
   ]
  },
  {
   "cell_type": "code",
   "execution_count": 10,
   "metadata": {},
   "outputs": [],
   "source": [
    "#Abriendo o creando el archivo\n",
    "archivo = open(nombre_archivo, 'wb')\n",
    "\n",
    "#Pickling\n",
    "pk.dump(data, archivo)\n",
    "\n",
    "#Cerrando Archivo\n",
    "archivo.close()"
   ]
  },
  {
   "cell_type": "code",
   "execution_count": 11,
   "metadata": {},
   "outputs": [
    {
     "data": {
      "text/plain": [
       "['CL-AD-11511550',\n",
       " 'PRIVATE',\n",
       " '2000',\n",
       " 'NISSAN',\n",
       " 'PATHFINDER',\n",
       " '2000 NISSAN PATHFINDER 3.3',\n",
       " 277000,\n",
       " 5200000,\n",
       " 'AUT',\n",
       " '/vehiculos/detalles/x/CL-AD-11511550',\n",
       " '2021-07-01 13:46:39',\n",
       " 'METROPOLITANA DE SANTIAGO',\n",
       " 'BENCINA']"
      ]
     },
     "execution_count": 11,
     "metadata": {},
     "output_type": "execute_result"
    }
   ],
   "source": [
    "data[0]"
   ]
  },
  {
   "cell_type": "code",
   "execution_count": 12,
   "metadata": {},
   "outputs": [
    {
     "name": "stdout",
     "output_type": "stream",
     "text": [
      "4272\n",
      "['CL-AD-11511550', 'PRIVATE', '2000', 'NISSAN', 'PATHFINDER', '2000 NISSAN PATHFINDER 3.3', 277000, 5200000, 'AUT', '/vehiculos/detalles/x/CL-AD-11511550', '2021-07-01 13:46:39', 'METROPOLITANA DE SANTIAGO', 'BENCINA']\n"
     ]
    }
   ],
   "source": [
    "print(len(data))\n",
    "print(data[0])"
   ]
  },
  {
   "cell_type": "code",
   "execution_count": 13,
   "metadata": {},
   "outputs": [
    {
     "data": {
      "text/plain": [
       "'Chileautos_scrape_01-07-2021_13-46'"
      ]
     },
     "execution_count": 13,
     "metadata": {},
     "output_type": "execute_result"
    }
   ],
   "source": [
    "nombre_archivo"
   ]
  },
  {
   "cell_type": "code",
   "execution_count": null,
   "metadata": {},
   "outputs": [],
   "source": []
  }
 ],
 "metadata": {
  "kernelspec": {
   "display_name": "Python 3",
   "language": "python",
   "name": "python3"
  },
  "language_info": {
   "codemirror_mode": {
    "name": "ipython",
    "version": 3
   },
   "file_extension": ".py",
   "mimetype": "text/x-python",
   "name": "python",
   "nbconvert_exporter": "python",
   "pygments_lexer": "ipython3",
   "version": "3.8.5"
  }
 },
 "nbformat": 4,
 "nbformat_minor": 4
}
